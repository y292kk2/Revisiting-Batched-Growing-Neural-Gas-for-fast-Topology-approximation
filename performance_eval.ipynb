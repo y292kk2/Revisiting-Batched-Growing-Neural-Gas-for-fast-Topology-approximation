{
 "cells": [
  {
   "cell_type": "markdown",
   "metadata": {},
   "source": [
    "# Performance Evaluation\n",
    "This notebook is for general illustration purposes only. Performance may vary significantly compared to a dedicated *python run.py* call"
   ]
  },
  {
   "cell_type": "code",
   "execution_count": 1,
   "metadata": {},
   "outputs": [],
   "source": [
    "import os\n",
    "import numpy as np\n",
    "\n",
    "from pyGNG import GrowingNeuralGas\n",
    "import networkx as nx\n",
    "import torch\n",
    "from tqdm.notebook import tqdm\n",
    "import matplotlib.pyplot as plt\n",
    "from itertools import product\n",
    "import pandas as pd\n",
    "import seaborn as sns\n",
    "import subprocess\n",
    "\n",
    "%matplotlib inline"
   ]
  },
  {
   "cell_type": "markdown",
   "metadata": {},
   "source": [
    "Load data. Encoded word vectors from Google News - 3M examples, 300 features each. "
   ]
  },
  {
   "cell_type": "code",
   "execution_count": 2,
   "metadata": {},
   "outputs": [
    {
     "name": "stdout",
     "output_type": "stream",
     "text": [
      "Data shape: torch.Size([3000000, 300])\n"
     ]
    }
   ],
   "source": [
    "# GoogleNews Word2Vec vectors\n",
    "train_data = np.load(\"data/googlenews/GoogleNews-vectors-negative300.npy\")\n",
    "train_data = torch.Tensor(train_data).float()\n",
    "\n",
    "###########################################################################\n",
    "# Scale\n",
    "train_data = train_data - train_data.min()\n",
    "train_data = train_data / train_data.max()\n",
    "\n",
    "###########################################################################\n",
    "\n",
    "assert train_data.min() == 0 and train_data.max() == 1\n",
    "print(f'Data shape: {train_data.shape}')"
   ]
  },
  {
   "cell_type": "markdown",
   "metadata": {},
   "source": [
    "Of course, the performance depends heavily on the hardware on which the notebook is running. However, this notebook runs on for demonstration purposes:"
   ]
  },
  {
   "cell_type": "code",
   "execution_count": 3,
   "metadata": {},
   "outputs": [
    {
     "data": {
      "text/plain": [
       "'NVIDIA A100-SXM4-80GB'"
      ]
     },
     "execution_count": 3,
     "metadata": {},
     "output_type": "execute_result"
    }
   ],
   "source": [
    "torch.cuda.get_device_name(device=None)"
   ]
  },
  {
   "cell_type": "markdown",
   "metadata": {},
   "source": [
    "respectivly with the following CPU setup:"
   ]
  },
  {
   "cell_type": "code",
   "execution_count": 4,
   "metadata": {},
   "outputs": [
    {
     "name": "stdout",
     "output_type": "stream",
     "text": [
      "Architecture:                       x86_64\n",
      "CPU op-mode(s):                     32-bit, 64-bit\n",
      "Address sizes:                      43 bits physical, 48 bits virtual\n",
      "Byte Order:                         Little Endian\n",
      "CPU(s):                             256\n",
      "On-line CPU(s) list:                0-255\n",
      "Vendor ID:                          AuthenticAMD\n",
      "Model name:                         AMD EPYC 7742 64-Core Processor\n",
      "CPU family:                         23\n",
      "Model:                              49\n",
      "Thread(s) per core:                 2\n",
      "Core(s) per socket:                 64\n",
      "Socket(s):                          2\n",
      "Stepping:                           0\n",
      "Frequency boost:                    enabled\n",
      "CPU max MHz:                        2250.0000\n",
      "CPU min MHz:                        1500.0000\n",
      "\n"
     ]
    }
   ],
   "source": [
    "print((subprocess.check_output(\"lscpu\", shell=True).strip()).decode().split(\"BogoMIPS\")[0])"
   ]
  },
  {
   "cell_type": "markdown",
   "metadata": {},
   "source": [
    "However, as this instance runs on a virtual machine, just a limited number of cores are exposed to the virtual host system:"
   ]
  },
  {
   "cell_type": "code",
   "execution_count": 5,
   "metadata": {},
   "outputs": [
    {
     "name": "stdout",
     "output_type": "stream",
     "text": [
      "Available CPU cores: 12\n"
     ]
    }
   ],
   "source": [
    "available_cores = len(os.sched_getaffinity(0))\n",
    "print(f'Available CPU cores: {len(os.sched_getaffinity(0))}')"
   ]
  },
  {
   "cell_type": "markdown",
   "metadata": {},
   "source": [
    "The frequency of node and edge removal depends heavily on the dataset. However, the removal of nodes and edges only has a minor impact on performance, which is why it is deactivated in this performance demonstration."
   ]
  },
  {
   "cell_type": "code",
   "execution_count": null,
   "metadata": {
    "scrolled": true
   },
   "outputs": [
    {
     "name": "stdout",
     "output_type": "stream",
     "text": [
      "Epoch 1 - summary:\n",
      "#Nodes: 10000\n",
      "#Steps: 46877\n",
      "#Edges: 148\n",
      "\n",
      "Mean dist: 0.01\n",
      "Mean error: 0.04\n",
      "Mean age: 18.86\n",
      "______________________________________\n",
      "Starting epoch 2:\n"
     ]
    },
    {
     "name": "stderr",
     "output_type": "stream",
     "text": [
      "Mean distance: 0.011436:  85%|██████████████████████████████████████████████████████████████████████████████████████████████████████████████████████████████████████████████████████████████████████████████████████▊                               | 20022/23438 [3:56:03<35:34,  1.60it/s]"
     ]
    }
   ],
   "source": [
    "# Evaluate performance for the following GNG sizes\n",
    "gng_sizes = [50,100,200,500,1000,2000,5000,10000,25000]\n",
    "#gng_sizes = [5000,10000,100000]\n",
    "device = [\"cuda\", \"cpu\"]\n",
    "#device = [\"cpu\"]\n",
    "batch_size = [128,512,2048,4096]\n",
    "\n",
    "# Keep all other parameters constant\n",
    "dataset_name = \"Google News\"\n",
    "random_seed = 42\n",
    "gng_max_edge_age = np.inf     # Disable edge removal\n",
    "gng_max_node_error = np.inf   # Disable node removal. \n",
    "epochs = 10\n",
    "save_progress = True\n",
    "save_path = \"./trials/\"\n",
    "torch_num_threads = available_cores+2\n",
    "\n",
    "for i, (d, gs, bs) in enumerate(product(device, gng_sizes, batch_size)):\n",
    "    if d == \"cuda\": continue\n",
    "    train_data = train_data.to(d)\n",
    "    \n",
    "    \n",
    "    gng = GrowingNeuralGas(n_features = train_data.shape[1],\n",
    "                           initial_gng_size = gs,\n",
    "                           max_gng_size = gs,\n",
    "                           batch_size = bs,\n",
    "                           random_seed = random_seed,\n",
    "                           device = d,\n",
    "                           gng_max_edge_age = gng_max_edge_age,\n",
    "                           gng_max_node_error = gng_max_node_error,\n",
    "                           check_edges_every_n_steps = np.inf,\n",
    "                           early_stopping = None,\n",
    "                           torch_num_threads=torch_num_threads)\n",
    "\n",
    "    result = gng.fit(data=train_data,\n",
    "                    epochs=epochs,\n",
    "                    save_progress=save_progress,\n",
    "                    save_path=save_path,\n",
    "                    progress_plot_title=f'{dataset_name} - BS{bs}')\n",
    "    \n",
    "    r = pd.DataFrame.from_records([{\"device\":d, \"gng_size\":gs, \"epoch_duration\":ed, \"batch_size\": bs} for ed in result[\"mean epoch duration\"]])\n",
    "    r.to_csv('results.csv', mode='a', index=False, header=False if i!=0 else True)    "
   ]
  },
  {
   "cell_type": "code",
   "execution_count": 2,
   "metadata": {},
   "outputs": [
    {
     "data": {
      "text/html": [
       "<div>\n",
       "<style scoped>\n",
       "    .dataframe tbody tr th:only-of-type {\n",
       "        vertical-align: middle;\n",
       "    }\n",
       "\n",
       "    .dataframe tbody tr th {\n",
       "        vertical-align: top;\n",
       "    }\n",
       "\n",
       "    .dataframe thead th {\n",
       "        text-align: right;\n",
       "    }\n",
       "</style>\n",
       "<table border=\"1\" class=\"dataframe\">\n",
       "  <thead>\n",
       "    <tr style=\"text-align: right;\">\n",
       "      <th></th>\n",
       "      <th>device</th>\n",
       "      <th>gng_size</th>\n",
       "      <th>epoch_duration</th>\n",
       "      <th>batch_size</th>\n",
       "    </tr>\n",
       "  </thead>\n",
       "  <tbody>\n",
       "    <tr>\n",
       "      <th>0</th>\n",
       "      <td>cuda</td>\n",
       "      <td>50</td>\n",
       "      <td>87.617187</td>\n",
       "      <td>128</td>\n",
       "    </tr>\n",
       "    <tr>\n",
       "      <th>1</th>\n",
       "      <td>cuda</td>\n",
       "      <td>50</td>\n",
       "      <td>87.616254</td>\n",
       "      <td>128</td>\n",
       "    </tr>\n",
       "    <tr>\n",
       "      <th>2</th>\n",
       "      <td>cuda</td>\n",
       "      <td>50</td>\n",
       "      <td>88.089786</td>\n",
       "      <td>128</td>\n",
       "    </tr>\n",
       "    <tr>\n",
       "      <th>3</th>\n",
       "      <td>cuda</td>\n",
       "      <td>50</td>\n",
       "      <td>88.352452</td>\n",
       "      <td>128</td>\n",
       "    </tr>\n",
       "    <tr>\n",
       "      <th>4</th>\n",
       "      <td>cuda</td>\n",
       "      <td>50</td>\n",
       "      <td>88.512788</td>\n",
       "      <td>128</td>\n",
       "    </tr>\n",
       "  </tbody>\n",
       "</table>\n",
       "</div>"
      ],
      "text/plain": [
       "  device  gng_size  epoch_duration  batch_size\n",
       "0   cuda        50       87.617187         128\n",
       "1   cuda        50       87.616254         128\n",
       "2   cuda        50       88.089786         128\n",
       "3   cuda        50       88.352452         128\n",
       "4   cuda        50       88.512788         128"
      ]
     },
     "execution_count": 2,
     "metadata": {},
     "output_type": "execute_result"
    }
   ],
   "source": [
    "results = pd.read_csv(\"results.csv\")\n",
    "results.head()"
   ]
  },
  {
   "cell_type": "code",
   "execution_count": 3,
   "metadata": {},
   "outputs": [
    {
     "data": {
      "text/plain": [
       "<seaborn.axisgrid.FacetGrid at 0x7f3c1ccc60d0>"
      ]
     },
     "execution_count": 3,
     "metadata": {},
     "output_type": "execute_result"
    },
    {
     "data": {
      "image/png": "[encoded data removed]",
      "text/plain": [
       "<Figure size 2083.88x500 with 4 Axes>"
      ]
     },
     "metadata": {},
     "output_type": "display_data"
    }
   ],
   "source": [
    "sns.catplot(results, x=\"gng_size\", y=\"epoch_duration\", hue=\"device\", col=\"batch_size\", kind=\"box\", errorbar=\"se\", log_scale=True)"
   ]
  },
  {
   "cell_type": "markdown",
   "metadata": {},
   "source": [
    "Mean epoch duration* for *cuda based* GNGs, applied on Googlenews-300"
   ]
  },
  {
   "cell_type": "code",
   "execution_count": 5,
   "metadata": {},
   "outputs": [
    {
     "data": {
      "text/plain": [
       "gng_size\n",
       "50        37.345581\n",
       "100       37.182335\n",
       "200       39.016538\n",
       "500       41.296575\n",
       "1000      44.918645\n",
       "2000      52.470432\n",
       "5000      79.412298\n",
       "10000    145.503516\n",
       "25000    480.435135\n",
       "Name: epoch_duration, dtype: float64"
      ]
     },
     "execution_count": 5,
     "metadata": {},
     "output_type": "execute_result"
    }
   ],
   "source": [
    "results[results[\"device\"]==\"cuda\"].groupby(\"gng_size\").epoch_duration.mean()"
   ]
  },
  {
   "cell_type": "markdown",
   "metadata": {},
   "source": [
    "Mean epoch duration* for *cpu based* GNGs, applied on Googlenews-300"
   ]
  },
  {
   "cell_type": "code",
   "execution_count": 6,
   "metadata": {},
   "outputs": [
    {
     "data": {
      "text/plain": [
       "gng_size\n",
       "50       282.219033\n",
       "100      435.023126\n",
       "200      520.383315\n",
       "500      678.852150\n",
       "1000     767.586578\n",
       "2000     933.762679\n",
       "5000    1705.725498\n",
       "Name: epoch_duration, dtype: float64"
      ]
     },
     "execution_count": 6,
     "metadata": {},
     "output_type": "execute_result"
    }
   ],
   "source": [
    "results[results[\"device\"]==\"cpu\"].groupby(\"gng_size\").epoch_duration.mean()"
   ]
  },
  {
   "cell_type": "markdown",
   "metadata": {},
   "source": [
    "\\* both measurements are performed within the Jupyter notebook, which is why significant performance differences are possible compared to a dedicated *python run.py* call. "
   ]
  },
  {
   "cell_type": "code",
   "execution_count": null,
   "metadata": {},
   "outputs": [],
   "source": []
  }
 ],
 "metadata": {
  "kernelspec": {
   "display_name": "Python 3 (ipykernel)",
   "language": "python",
   "name": "python3"
  },
  "language_info": {
   "codemirror_mode": {
    "name": "ipython",
    "version": 3
   },
   "file_extension": ".py",
   "mimetype": "text/x-python",
   "name": "python",
   "nbconvert_exporter": "python",
   "pygments_lexer": "ipython3",
   "version": "3.11.6"
  }
 },
 "nbformat": 4,
 "nbformat_minor": 4
}
